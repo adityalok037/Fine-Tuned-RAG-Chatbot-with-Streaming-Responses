{
 "cells": [
  {
   "cell_type": "code",
   "execution_count": null,
   "id": "342cacc4",
   "metadata": {},
   "outputs": [],
   "source": [
    "import os\n",
    "import json\n",
    "from langchain_community.document_loaders import PyPDFLoader, DirectoryLoader\n",
    "from langchain.text_splitter import RecursiveCharacterTextSplitter\n",
    "# from langchain_community.embeddings import HuggingFaceEmbeddings\n",
    "from langchain.schema.document import Document "
   ]
  },
  {
   "cell_type": "code",
   "execution_count": 16,
   "id": "31112b05",
   "metadata": {},
   "outputs": [
    {
     "name": "stdout",
     "output_type": "stream",
     "text": [
      "Collecting pypdf\n",
      "  Downloading pypdf-5.7.0-py3-none-any.whl.metadata (7.2 kB)\n",
      "Downloading pypdf-5.7.0-py3-none-any.whl (305 kB)\n",
      "Installing collected packages: pypdf\n",
      "Successfully installed pypdf-5.7.0\n",
      "Note: you may need to restart the kernel to use updated packages.\n"
     ]
    }
   ],
   "source": [
    "pip install pypdf"
   ]
  },
  {
   "cell_type": "code",
   "execution_count": 18,
   "id": "6990ebcf",
   "metadata": {},
   "outputs": [
    {
     "name": "stdout",
     "output_type": "stream",
     "text": [
      "✅ Loaded 20 documents.\n"
     ]
    }
   ],
   "source": [
    "# Step 1: Load PDF documents from /data folder\n",
    "def load_pdf(directory_path='../data'):\n",
    "    loader = DirectoryLoader(directory_path,\n",
    "                             glob=\"*.pdf\",\n",
    "                             loader_cls=PyPDFLoader)\n",
    "    documents = loader.load()\n",
    "    print(f\"✅ Loaded {len(documents)} documents.\")\n",
    "    return documents\n",
    "documents = load_pdf(\"../data\")\n"
   ]
  },
  {
   "cell_type": "code",
   "execution_count": 19,
   "id": "84104e8f",
   "metadata": {},
   "outputs": [],
   "source": [
    "# Step 2: Clean text (optional, can be expanded)\n",
    "def clean_documents(documents: list[Document]) -> list[Document]:\n",
    "    cleaned = []\n",
    "    for doc in documents:\n",
    "        cleaned_text = doc.page_content.strip().replace('\\n', ' ')\n",
    "        doc.page_content = cleaned_text\n",
    "        cleaned.append(doc)\n",
    "    return cleaned\n"
   ]
  },
  {
   "cell_type": "code",
   "execution_count": 20,
   "id": "e3d5566e",
   "metadata": {},
   "outputs": [],
   "source": [
    "# Step 3: Split text into chunks\n",
    "def text_split(extracted_data: list[Document]):\n",
    "    splitter = RecursiveCharacterTextSplitter(chunk_size=500, chunk_overlap=50)\n",
    "    chunks = splitter.split_documents(extracted_data)\n",
    "    print(f\"✅ Split into {len(chunks)} text chunks.\")\n",
    "    return chunks\n",
    "documents = clean_documents(documents)\n"
   ]
  },
  {
   "cell_type": "code",
   "execution_count": null,
   "id": "57482ebc",
   "metadata": {},
   "outputs": [
    {
     "name": "stdout",
     "output_type": "stream",
     "text": [
      "✅ Split into 157 text chunks.\n"
     ]
    }
   ],
   "source": [
    "\n",
    "# Step 4: Save chunks to /chunks/chunks.json\n",
    "def save_chunks(text_chunks, save_path=\"../chunks/chunks.json\"):\n",
    "    os.makedirs(\"chunks\", exist_ok=True)\n",
    "    chunk_texts = [chunk.page_content for chunk in text_chunks]\n",
    "    with open(save_path, \"w\", encoding=\"utf-8\") as f:\n",
    "        json.dump(chunk_texts, f, ensure_ascii=False, indent=2)\n",
    "    print(f\"✅ Chunks saved to {save_path}\")\n",
    "text_chunks = text_split(documents)\n",
    "\n",
    "\n"
   ]
  },
  {
   "cell_type": "code",
   "execution_count": 24,
   "id": "d4f9e19e",
   "metadata": {},
   "outputs": [
    {
     "name": "stdout",
     "output_type": "stream",
     "text": [
      "✅ Chunks saved to ../chunks/chunks.json\n"
     ]
    }
   ],
   "source": [
    "save_chunks(text_chunks)"
   ]
  },
  {
   "cell_type": "code",
   "execution_count": 25,
   "id": "935a9510",
   "metadata": {},
   "outputs": [],
   "source": [
    "#  Run the whole Step 1 pipeline\n",
    "# documents = load_pdf(\"data\")\n",
    "# documents = clean_documents(documents)\n",
    "# text_chunks = text_split(documents)\n"
   ]
  },
  {
   "cell_type": "code",
   "execution_count": null,
   "id": "eceef801",
   "metadata": {},
   "outputs": [],
   "source": []
  }
 ],
 "metadata": {
  "kernelspec": {
   "display_name": "medicalbot",
   "language": "python",
   "name": "python3"
  },
  "language_info": {
   "codemirror_mode": {
    "name": "ipython",
    "version": 3
   },
   "file_extension": ".py",
   "mimetype": "text/x-python",
   "name": "python",
   "nbconvert_exporter": "python",
   "pygments_lexer": "ipython3",
   "version": "3.12.10"
  }
 },
 "nbformat": 4,
 "nbformat_minor": 5
}
