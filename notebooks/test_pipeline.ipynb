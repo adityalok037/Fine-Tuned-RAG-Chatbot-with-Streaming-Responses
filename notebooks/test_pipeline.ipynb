{
 "cells": [
  {
   "cell_type": "code",
   "execution_count": null,
   "id": "6be24a23",
   "metadata": {},
   "outputs": [
    {
     "name": "stderr",
     "output_type": "stream",
     "text": [
      "d:\\anaconda\\envs\\medicalbot\\Lib\\site-packages\\tqdm\\auto.py:21: TqdmWarning: IProgress not found. Please update jupyter and ipywidgets. See https://ipywidgets.readthedocs.io/en/stable/user_install.html\n",
      "  from .autonotebook import tqdm as notebook_tqdm\n"
     ]
    },
    {
     "name": "stdout",
     "output_type": "stream",
     "text": [
      "Retriever initialized with 157 chunks.\n",
      "\n",
      "Chunk 1:\n",
      "charges necessary to recoup amounts refunded to you in error;  • You may seek returns or cancellations on our Services, or file eBay Money Back Guarantee  claims on our Services. If you are entitled to a refund, the eBay Payment Entities will issue  the refund if the eBay Payment Entities processed the original payment. Refund timing may  vary in accordance with the rules of third parties, such as credit and debit card networks;  • You agree to comply with, and not cause a third party to\n",
      "\n",
      "Chunk 2:\n",
      "from the refund owed to you.  eBay Money Back Guarantee  Most eBay sales go smoothly, but if there's a problem with a purchase covered by eBay Money Back  Guarantee, buyers can get their money back if an item didn't arrive, is faulty or damaged, or doesn't  match the listing. You agree to comply with the policy and permit us to make a final decision on any  eBay Money Back Guarantee case.  If you (as seller) choose to reimburse a buyer, or are required to reimburse a buyer or eBay under the\n",
      "\n",
      "Chunk 3:\n",
      "in whole or in part without notice if we suspect  abuse or interference with the proper working of the policy. You agree to make us whole for any  losses, including expenses we incur to recoup such losses, arising out of your abuse of the eBay  Money Back Guarantee, or any fraud you commit in connection with the eBay Money Back  Guarantee.  Recommendations  eBay may offer personalized recommendations to you to provide a relevant and engaging  experience, helping you sell or buy items of\n"
     ]
    }
   ],
   "source": [
    "# test_retriever.py =\n",
    "# This is a test script to demonstrate the functionality of the VectorRetriever class\n",
    "# It retrieves the top 3 relevant text chunks for a given query.\n",
    "import sys\n",
    "import os\n",
    "sys.path.append(os.path.abspath(os.path.join(os.getcwd(), '..')))\n",
    "\n",
    "from src.retriever import VectorRetriever\n",
    "\n",
    "retriever = VectorRetriever(index_path=\"../vectordb/faiss_index\")\n",
    "results = retriever.retrieve(\"What is the refund policy?\", top_k=3)\n",
    "\n",
    "for i, chunk in enumerate(results, 1):\n",
    "    print(f\"\\nChunk {i}:\\n{chunk}\")\n"
   ]
  },
  {
   "cell_type": "code",
   "execution_count": null,
   "id": "aeea0d8c",
   "metadata": {},
   "outputs": [],
   "source": []
  }
 ],
 "metadata": {
  "kernelspec": {
   "display_name": "medicalbot",
   "language": "python",
   "name": "python3"
  },
  "language_info": {
   "codemirror_mode": {
    "name": "ipython",
    "version": 3
   },
   "file_extension": ".py",
   "mimetype": "text/x-python",
   "name": "python",
   "nbconvert_exporter": "python",
   "pygments_lexer": "ipython3",
   "version": "3.12.10"
  }
 },
 "nbformat": 4,
 "nbformat_minor": 5
}
