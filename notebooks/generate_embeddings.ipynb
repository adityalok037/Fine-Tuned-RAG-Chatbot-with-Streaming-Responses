{
 "cells": [
  {
   "cell_type": "code",
   "execution_count": null,
   "id": "33daba1c",
   "metadata": {},
   "outputs": [],
   "source": [
    "# pip install sentence-transformers faiss-cpu\n"
   ]
  },
  {
   "cell_type": "code",
   "execution_count": 9,
   "id": "156b0af7",
   "metadata": {},
   "outputs": [],
   "source": [
    "# ✅ STEP 2: Embedding Text Chunks and Storing in FAISS Vector DB\n",
    "import os\n",
    "import json\n",
    "import pickle\n",
    "from typing import List\n",
    "\n",
    "import numpy as np\n",
    "import faiss\n",
    "from sentence_transformers import SentenceTransformer"
   ]
  },
  {
   "cell_type": "code",
   "execution_count": 10,
   "id": "8930c8f3",
   "metadata": {},
   "outputs": [
    {
     "name": "stdout",
     "output_type": "stream",
     "text": [
      "Loaded 157 text chunks.\n"
     ]
    }
   ],
   "source": [
    "# --- Step 1: Load chunked text from Step 1 ---\n",
    "def load_chunks(path: str = \"../chunks/chunks.json\") -> List[str]:\n",
    "    with open(path, \"r\", encoding=\"utf-8\") as f:\n",
    "        chunks = json.load(f)\n",
    "    print(f\"Loaded {len(chunks)} text chunks.\")\n",
    "    return chunks\n",
    "\n",
    "chunks = load_chunks(\"../chunks/chunks.json\")"
   ]
  },
  {
   "cell_type": "code",
   "execution_count": 11,
   "id": "90d11df4",
   "metadata": {},
   "outputs": [
    {
     "name": "stdout",
     "output_type": "stream",
     "text": [
      "Embedding model 'all-MiniLM-L6-v2' loaded.\n"
     ]
    }
   ],
   "source": [
    "def load_embedding_model(model_name: str = \"all-MiniLM-L6-v2\"):\n",
    "    model = SentenceTransformer(model_name)\n",
    "    print(f\"Embedding model '{model_name}' loaded.\")\n",
    "    return model\n",
    "\n",
    "model = load_embedding_model(\"all-MiniLM-L6-v2\")\n"
   ]
  },
  {
   "cell_type": "code",
   "execution_count": 12,
   "id": "7f2440a7",
   "metadata": {},
   "outputs": [
    {
     "name": "stderr",
     "output_type": "stream",
     "text": [
      "Batches: 100%|██████████| 5/5 [00:04<00:00,  1.10it/s]"
     ]
    },
    {
     "name": "stdout",
     "output_type": "stream",
     "text": [
      "Generated embeddings with shape: (157, 384)\n"
     ]
    },
    {
     "name": "stderr",
     "output_type": "stream",
     "text": [
      "\n"
     ]
    }
   ],
   "source": [
    "def generate_embeddings(text_chunks: List[str], model) -> np.ndarray:\n",
    "    embeddings = model.encode(text_chunks, show_progress_bar=True, convert_to_numpy=True)\n",
    "    print(f\"Generated embeddings with shape: {embeddings.shape}\")\n",
    "    return embeddings\n",
    "\n",
    "embeddings = generate_embeddings(chunks, model)\n"
   ]
  },
  {
   "cell_type": "code",
   "execution_count": 13,
   "id": "84527b31",
   "metadata": {},
   "outputs": [
    {
     "name": "stdout",
     "output_type": "stream",
     "text": [
      "FAISS index built with 157 vectors.\n"
     ]
    }
   ],
   "source": [
    "def build_faiss_index(embeddings: np.ndarray):\n",
    "    dim = embeddings.shape[1]\n",
    "    index = faiss.IndexFlatL2(dim)\n",
    "    index.add(embeddings)\n",
    "    print(f\"FAISS index built with {index.ntotal} vectors.\")\n",
    "    return index\n",
    "index = build_faiss_index(embeddings)\n"
   ]
  },
  {
   "cell_type": "code",
   "execution_count": 14,
   "id": "a25ddb13",
   "metadata": {},
   "outputs": [
    {
     "name": "stdout",
     "output_type": "stream",
     "text": [
      "✅ Saved FAISS index and text metadata to ../vectordb/faiss_index/\n"
     ]
    }
   ],
   "source": [
    "def save_faiss_index(index, texts: List[str], path: str = \"../vectordb/faiss_index\"):\n",
    "    os.makedirs(path, exist_ok=True)\n",
    "    faiss.write_index(index, os.path.join(path, \"index.faiss\"))\n",
    "\n",
    "    with open(os.path.join(path, \"texts.pkl\"), \"wb\") as f:\n",
    "        pickle.dump(texts, f)\n",
    "\n",
    "    print(f\"✅ Saved FAISS index and text metadata to {path}/\")\n",
    "\n",
    "save_faiss_index(index, chunks, \"../vectordb/faiss_index\")\n",
    "\n"
   ]
  }
 ],
 "metadata": {
  "kernelspec": {
   "display_name": "medicalbot",
   "language": "python",
   "name": "python3"
  },
  "language_info": {
   "codemirror_mode": {
    "name": "ipython",
    "version": 3
   },
   "file_extension": ".py",
   "mimetype": "text/x-python",
   "name": "python",
   "nbconvert_exporter": "python",
   "pygments_lexer": "ipython3",
   "version": "3.12.10"
  }
 },
 "nbformat": 4,
 "nbformat_minor": 5
}
